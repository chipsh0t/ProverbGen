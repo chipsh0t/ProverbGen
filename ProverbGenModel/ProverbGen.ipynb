{
  "cells": [
    {
      "cell_type": "code",
      "execution_count": 1,
      "metadata": {
        "id": "vCMH8Ku_1vCN"
      },
      "outputs": [],
      "source": [
        "import tensorflow as tf\n",
        "import nltk\n",
        "import numpy as np"
      ]
    },
    {
      "cell_type": "code",
      "execution_count": 2,
      "metadata": {
        "colab": {
          "base_uri": "https://localhost:8080/"
        },
        "id": "tfrT0OvI2MiV",
        "outputId": "64dd6e30-d9e3-4402-bf7e-09f898e8495c"
      },
      "outputs": [
        {
          "data": {
            "text/plain": [
              "['ა, ბატონო ბაწარიო, დავით მეფეს გასწავლიო.',\n",
              " 'ა, დათვი და ა, კვალი!',\n",
              " 'აასვენა, აღარ დაასვენა.',\n",
              " 'ააფრინე ალალი, რაც არ არი - არ არი.',\n",
              " 'აბდალი თავის პატრონის ფეხებს მეტი ჯაფა აქვსო.',\n",
              " 'აბლაბუდაც ფიქრობს.',\n",
              " 'აგანგალა - განგალაო, შარშან კატა მომკვდარაო.',\n",
              " 'აგიაშვილის გამზრდელი ქორწილში ყოფილა დაპატიჟებული, სადაც წასულა სადილის უჭმელად, მაგრამ ქორწილისათვის ვერ მოუსწრია და შინ დაბრუნებულს უთქვამს: \"იქაც მოვცდი ქორწილსაო, აქაც სადილობასაო\".',\n",
              " 'აგიაშვილის გამდელივით არ დაგემართოს.',\n",
              " 'აგრე არ უნდა, თაყაო, შენ რომ მამული გაჰყაო.']"
            ]
          },
          "execution_count": 2,
          "metadata": {},
          "output_type": "execute_result"
        }
      ],
      "source": [
        "proverbs=[]\n",
        "with open(\"Proverbs.txt\", \"r\", encoding=\"utf-8\") as file:\n",
        "    proverbs = file.readlines()\n",
        "\n",
        "proverbs = [proverb.strip() for proverb in proverbs]\n",
        "proverbs[:10]"
      ]
    },
    {
      "cell_type": "code",
      "execution_count": 3,
      "metadata": {
        "id": "eYhmB-RqFOl0"
      },
      "outputs": [],
      "source": [
        "import re\n",
        "def clean_sentence(sentence:str):\n",
        "    # stopwords='დარომკითუ(,)123456789*.!?-:'\n",
        "    return re.sub(r'[^\\w\\s]', '', sentence)\n",
        "#   return res.split()\n",
        "    # return ' '.join([word.replace(stopwords,'') for word in sentence.split()])"
      ]
    },
    {
      "cell_type": "code",
      "execution_count": 4,
      "metadata": {
        "colab": {
          "base_uri": "https://localhost:8080/",
          "height": 36
        },
        "id": "BjxP_C11Ff_O",
        "outputId": "4d2c1ae5-13f7-43ba-cf58-b9b748d11b91"
      },
      "outputs": [
        {
          "data": {
            "text/plain": [
              "'ადრე ამდგარი ჩიტი ნისკარტს იწმენდს მძინარა  თვალებს იფშვნეტს'"
            ]
          },
          "execution_count": 4,
          "metadata": {},
          "output_type": "execute_result"
        }
      ],
      "source": [
        "clean_sentence(\"ადრე ამდგარი ჩიტი ნისკარტს იწმენდს, მძინარა - თვალებს იფშვნეტს\")"
      ]
    },
    {
      "cell_type": "code",
      "execution_count": 5,
      "metadata": {
        "colab": {
          "base_uri": "https://localhost:8080/"
        },
        "id": "Nfi_vYwTF0Nn",
        "outputId": "9036b2ce-635f-42b0-c86c-0469d5f71631"
      },
      "outputs": [
        {
          "data": {
            "text/plain": [
              "['ა ბატონო ბაწარიო დავით მეფეს გასწავლიო',\n",
              " 'ა დათვი და ა კვალი',\n",
              " 'აასვენა აღარ დაასვენა',\n",
              " 'ააფრინე ალალი რაც არ არი  არ არი',\n",
              " 'აბდალი თავის პატრონის ფეხებს მეტი ჯაფა აქვსო',\n",
              " 'აბლაბუდაც ფიქრობს',\n",
              " 'აგანგალა  განგალაო შარშან კატა მომკვდარაო',\n",
              " 'აგიაშვილის გამზრდელი ქორწილში ყოფილა დაპატიჟებული სადაც წასულა სადილის უჭმელად მაგრამ ქორწილისათვის ვერ მოუსწრია და შინ დაბრუნებულს უთქვამს იქაც მოვცდი ქორწილსაო აქაც სადილობასაო',\n",
              " 'აგიაშვილის გამდელივით არ დაგემართოს',\n",
              " 'აგრე არ უნდა თაყაო შენ რომ მამული გაჰყაო',\n",
              " 'აგორებული ქვა ხავსს არ მოიკიდებს',\n",
              " 'აგურის ნატეხი ლალს შეადარეს აქაო და წითელიაო',\n",
              " 'აგურს რეცხდნენ და უარესი წვენი გასდიოდა',\n",
              " 'ადათია და წესია  ფეტვი ალაგზე თესია',\n",
              " 'ადათის ამოწყვეტას  გვარის ამოწყვეტა სჯობია',\n",
              " 'ადამიანი ადამიანის მალამოა',\n",
              " 'ადამიანი სიცოცხლეს იწყებს წივილკივილით და ათავებს კვნესით',\n",
              " 'ადამიანის დაბადება პირველი დღეა ქორწინება  მეორე და სიკვდილი  მესამე',\n",
              " 'ადგომაში კეტი უნდა დაჯდომაში ბოძკინტიო',\n",
              " 'ადგომისას ძვლებს ცალცალკე ვეძებ']"
            ]
          },
          "execution_count": 5,
          "metadata": {},
          "output_type": "execute_result"
        }
      ],
      "source": [
        "cleaned_proverbs = [clean_sentence(proverb) for proverb in proverbs]\n",
        "cleaned_proverbs[:20]"
      ]
    },
    {
      "cell_type": "code",
      "execution_count": 6,
      "metadata": {
        "colab": {
          "base_uri": "https://localhost:8080/"
        },
        "id": "YoWJI0dRVXAY",
        "outputId": "ed0e264e-548c-4d6b-bb7d-43f6d7ee2b04"
      },
      "outputs": [
        {
          "name": "stdout",
          "output_type": "stream",
          "text": [
            "average proverb length: 7.0\n"
          ]
        }
      ],
      "source": [
        "#average proverb length\n",
        "avg_len = sum([len(proverb.split()) for proverb in cleaned_proverbs])/len(cleaned_proverbs)\n",
        "print(f'average proverb length: {np.ceil(avg_len)}')"
      ]
    },
    {
      "cell_type": "code",
      "execution_count": 7,
      "metadata": {
        "colab": {
          "base_uri": "https://localhost:8080/"
        },
        "id": "9r2BObSlLU-A",
        "outputId": "0f838afe-d185-4bab-872f-f27015f17028"
      },
      "outputs": [
        {
          "data": {
            "text/plain": [
              "[('და', 714),\n",
              " ('არ', 537),\n",
              " ('რომ', 272),\n",
              " ('თუ', 218),\n",
              " ('კაცი', 151),\n",
              " ('ვერ', 137),\n",
              " ('არა', 134),\n",
              " ('ერთი', 134),\n",
              " ('კი', 123),\n",
              " ('უნდა', 118)]"
            ]
          },
          "execution_count": 7,
          "metadata": {},
          "output_type": "execute_result"
        }
      ],
      "source": [
        "#word frequency distribution\n",
        "separate_words = ' '.join(cleaned_proverbs).split()\n",
        "freq_dist = dict(nltk.probability.FreqDist(separate_words).items())\n",
        "# print(f'და: {freq_dist[\"და\"]}, რომ: {freq_dist[\"რომ\"]}, კი: {freq_dist[\"კი\"]}, არ: {freq_dist[\"არ\"]}, ა: {freq_dist[\"არ\"]}')\n",
        "sorted(freq_dist.items(), key=lambda x:x[1], reverse=True)[:10]"
      ]
    },
    {
      "cell_type": "code",
      "execution_count": 8,
      "metadata": {
        "id": "W2GN7IJFRdYO"
      },
      "outputs": [],
      "source": [
        "# stop_words_removed = [word for word in separate_words if word not in stop_words]\n",
        "# stop_words_removed[:20]\n",
        "# cleaned_prover\n",
        "def remove_stopwords(sentence:str):\n",
        "    stopwords = ['და', 'რომ', 'თუ', 'კი']\n",
        "    return ' '.join([word for word in sentence.split() if word not in stopwords])"
      ]
    },
    {
      "cell_type": "code",
      "execution_count": 9,
      "metadata": {
        "colab": {
          "base_uri": "https://localhost:8080/"
        },
        "id": "FtmVnivsiwkM",
        "outputId": "e424f212-2891-489f-eb2f-874cfa191315"
      },
      "outputs": [
        {
          "data": {
            "text/plain": [
              "['აგორებული ქვა ხავსს არ მოიკიდებს',\n",
              " 'აგურის ნატეხი ლალს შეადარეს აქაო წითელიაო',\n",
              " 'აგურს რეცხდნენ უარესი წვენი გასდიოდა',\n",
              " 'ადათია წესია ფეტვი ალაგზე თესია',\n",
              " 'ადათის ამოწყვეტას გვარის ამოწყვეტა სჯობია',\n",
              " 'ადამიანი ადამიანის მალამოა',\n",
              " 'ადამიანი სიცოცხლეს იწყებს წივილკივილით ათავებს კვნესით',\n",
              " 'ადამიანის დაბადება პირველი დღეა ქორწინება მეორე სიკვდილი მესამე',\n",
              " 'ადგომაში კეტი უნდა დაჯდომაში ბოძკინტიო',\n",
              " 'ადგომისას ძვლებს ცალცალკე ვეძებ',\n",
              " 'ადე ნახე ჭირიო დაჯე ნახე ლხინიო',\n",
              " 'ადე დაბრუნდი წისქვილო დასჯერდი შენს ქონებასო',\n",
              " 'ადლი ორად მოგივა',\n",
              " 'ადრე ამდგარი ჩიტი ნისკარტს იწმენდს მძინარა თვალებს იფშვნეტს',\n",
              " 'ადრე ამდგარსა კურდღელსა ვერ მოეწევა მწევარი']"
            ]
          },
          "execution_count": 9,
          "metadata": {},
          "output_type": "execute_result"
        }
      ],
      "source": [
        "#removing stopwords from every proverb\n",
        "for index,proverb in enumerate(cleaned_proverbs):\n",
        "    cleaned_proverbs[index] = remove_stopwords(proverb)\n",
        "\n",
        "cleaned_proverbs[10:25]"
      ]
    },
    {
      "cell_type": "code",
      "execution_count": 14,
      "metadata": {
        "colab": {
          "base_uri": "https://localhost:8080/"
        },
        "id": "k2ug9Ur-tY6M",
        "outputId": "44300d4e-18e8-4f98-eb24-9bcc8495b645"
      },
      "outputs": [
        {
          "name": "stdout",
          "output_type": "stream",
          "text": [
            "10576\n",
            "10576\n"
          ]
        }
      ],
      "source": [
        "#creating word to index mapping\n",
        "unique_words = list(set(separate_words))\n",
        "total_words = len(unique_words)\n",
        "word_to_index = {}\n",
        "for index,word in enumerate(unique_words):\n",
        "    word_to_index[word] = index+1\n",
        "\n",
        "print(len(unique_words))\n",
        "print(len(word_to_index.keys()))"
      ]
    },
    {
      "cell_type": "code",
      "execution_count": 15,
      "metadata": {
        "id": "X32HIjDEG4tJ"
      },
      "outputs": [],
      "source": [
        "def generate_sequence_and_labels(cleaned_proverbs):\n",
        "    sequences = []\n",
        "    for line in cleaned_proverbs:\n",
        "        token_list = line.split()\n",
        "        token_list_numerized = [word_to_index[token] for token in token_list]\n",
        "        for i in range(1, len(token_list_numerized)):\n",
        "            n_gram_sequence = token_list_numerized[:i+1]\n",
        "            sequences.append(n_gram_sequence)\n",
        "     # Pad sequences for equal input length\n",
        "    max_sequence_len = max([len(seq) for seq in sequences])\n",
        "    sequences = np.array(tf.keras.preprocessing.sequence.pad_sequences(sequences, maxlen=max_sequence_len, padding='pre'))\n",
        "     # Split sequences between the \"input\" sequence and \"output\" predicted word\n",
        "    input_sequences, labels = sequences[:,:-1], sequences[:,-1]\n",
        "    #  print(input_sequences,labels)\n",
        "     # One-hot encode the labels\n",
        "    labels = tf.keras.utils.to_categorical(labels, num_classes=total_words+1)\n",
        "    return max_sequence_len,input_sequences, labels"
      ]
    },
    {
      "cell_type": "code",
      "execution_count": 16,
      "metadata": {
        "colab": {
          "base_uri": "https://localhost:8080/"
        },
        "id": "qyXW5B3zIqSq",
        "outputId": "6fe6cf66-7b78-41a0-8b62-0e2c53d5265e"
      },
      "outputs": [
        {
          "name": "stdout",
          "output_type": "stream",
          "text": [
            "max sequence len: 38\n",
            "first 10 input sequences\n",
            "[[   0    0    0    0    0    0    0    0    0    0    0    0    0    0\n",
            "     0    0    0    0    0    0    0    0    0    0    0    0    0    0\n",
            "     0    0    0    0    0    0    0    0 9847]\n",
            " [   0    0    0    0    0    0    0    0    0    0    0    0    0    0\n",
            "     0    0    0    0    0    0    0    0    0    0    0    0    0    0\n",
            "     0    0    0    0    0    0    0 9847 8872]\n",
            " [   0    0    0    0    0    0    0    0    0    0    0    0    0    0\n",
            "     0    0    0    0    0    0    0    0    0    0    0    0    0    0\n",
            "     0    0    0    0    0    0 9847 8872 6006]\n",
            " [   0    0    0    0    0    0    0    0    0    0    0    0    0    0\n",
            "     0    0    0    0    0    0    0    0    0    0    0    0    0    0\n",
            "     0    0    0    0    0 9847 8872 6006 8123]\n",
            " [   0    0    0    0    0    0    0    0    0    0    0    0    0    0\n",
            "     0    0    0    0    0    0    0    0    0    0    0    0    0    0\n",
            "     0    0    0    0 9847 8872 6006 8123 6706]\n",
            " [   0    0    0    0    0    0    0    0    0    0    0    0    0    0\n",
            "     0    0    0    0    0    0    0    0    0    0    0    0    0    0\n",
            "     0    0    0    0    0    0    0    0 9847]\n",
            " [   0    0    0    0    0    0    0    0    0    0    0    0    0    0\n",
            "     0    0    0    0    0    0    0    0    0    0    0    0    0    0\n",
            "     0    0    0    0    0    0    0 9847 6578]\n",
            " [   0    0    0    0    0    0    0    0    0    0    0    0    0    0\n",
            "     0    0    0    0    0    0    0    0    0    0    0    0    0    0\n",
            "     0    0    0    0    0    0 9847 6578 9847]\n",
            " [   0    0    0    0    0    0    0    0    0    0    0    0    0    0\n",
            "     0    0    0    0    0    0    0    0    0    0    0    0    0    0\n",
            "     0    0    0    0    0    0    0    0 9543]\n",
            " [   0    0    0    0    0    0    0    0    0    0    0    0    0    0\n",
            "     0    0    0    0    0    0    0    0    0    0    0    0    0    0\n",
            "     0    0    0    0    0    0    0 9543  988]]\n",
            "first 10 labels\n",
            "[[0. 0. 0. ... 0. 0. 0.]\n",
            " [0. 0. 0. ... 0. 0. 0.]\n",
            " [0. 0. 0. ... 0. 0. 0.]\n",
            " ...\n",
            " [0. 0. 0. ... 0. 0. 0.]\n",
            " [0. 0. 0. ... 0. 0. 0.]\n",
            " [0. 0. 0. ... 0. 0. 0.]]\n",
            "(18021, 10577)\n"
          ]
        }
      ],
      "source": [
        "max_sequence_len,training_input_sequences,training_labels = generate_sequence_and_labels(cleaned_proverbs)\n",
        "print(f'max sequence len: {max_sequence_len}')\n",
        "print(\"first 10 input sequences\")\n",
        "print(training_input_sequences[:10]) #(18021, 37)\n",
        "print(\"first 10 labels\")\n",
        "print(training_labels[:10])\n",
        "print(training_labels.shape) #(18021, 10577)"
      ]
    },
    {
      "cell_type": "code",
      "execution_count": 17,
      "metadata": {
        "id": "8WbIbfS1NUmh"
      },
      "outputs": [],
      "source": [
        "#creating model\n",
        "model = tf.keras.Sequential([\n",
        "    tf.keras.layers.Embedding(total_words, 64, input_length=max_sequence_len-1),\n",
        "    tf.keras.layers.Bidirectional(tf.keras.layers.LSTM(20)),\n",
        "    tf.keras.layers.Dense(total_words+1,'softmax')\n",
        "])"
      ]
    },
    {
      "cell_type": "code",
      "execution_count": 18,
      "metadata": {
        "colab": {
          "base_uri": "https://localhost:8080/"
        },
        "id": "oOEb8HHgFWyf",
        "outputId": "4f2fb10c-8220-4ef6-f9eb-afcabbf1b32c"
      },
      "outputs": [
        {
          "name": "stdout",
          "output_type": "stream",
          "text": [
            "train data shape: (16218, 37)\n",
            "train labels shape: (16218, 10577)\n",
            "val data shape: (1803, 37)\n",
            "val labels shape: (1803, 10577)\n"
          ]
        }
      ],
      "source": [
        "#getting validation data\n",
        "from sklearn.model_selection import train_test_split\n",
        "\n",
        "# Split the data into training and validation sets\n",
        "train_data, val_data, train_labels, val_labels = train_test_split(training_input_sequences, training_labels, test_size=0.1, random_state=42)\n",
        "print(f'train data shape: {train_data.shape}')\n",
        "print(f'train labels shape: {train_labels.shape}')\n",
        "print(f'val data shape: {val_data.shape}')\n",
        "print(f'val labels shape: {val_labels.shape}')"
      ]
    },
    {
      "cell_type": "code",
      "execution_count": null,
      "metadata": {
        "colab": {
          "base_uri": "https://localhost:8080/"
        },
        "id": "WSWbGDUi5-0r",
        "outputId": "20f0b219-68ee-433c-ccd2-a56fe9847342"
      },
      "outputs": [
        {
          "name": "stdout",
          "output_type": "stream",
          "text": [
            "Epoch 1/20\n",
            "507/507 [==============================] - 41s 69ms/step - loss: 8.4957 - accuracy: 0.0310 - val_loss: 10.3679 - val_accuracy: 0.0316\n",
            "Epoch 2/20\n",
            "507/507 [==============================] - 34s 68ms/step - loss: 7.5425 - accuracy: 0.0411 - val_loss: 11.1138 - val_accuracy: 0.0266\n",
            "Epoch 3/20\n",
            "507/507 [==============================] - 35s 69ms/step - loss: 6.3596 - accuracy: 0.0744 - val_loss: 11.8088 - val_accuracy: 0.0222\n",
            "Epoch 4/20\n",
            "507/507 [==============================] - 33s 65ms/step - loss: 5.3086 - accuracy: 0.1298 - val_loss: 12.3532 - val_accuracy: 0.0155\n",
            "Epoch 5/20\n",
            "507/507 [==============================] - 35s 68ms/step - loss: 4.4061 - accuracy: 0.2044 - val_loss: 12.8672 - val_accuracy: 0.0172\n",
            "Epoch 6/20\n",
            "507/507 [==============================] - 33s 66ms/step - loss: 3.6570 - accuracy: 0.3073 - val_loss: 13.3539 - val_accuracy: 0.0183\n",
            "Epoch 7/20\n",
            "507/507 [==============================] - 35s 68ms/step - loss: 3.0643 - accuracy: 0.4123 - val_loss: 14.0008 - val_accuracy: 0.0211\n",
            "Epoch 8/20\n",
            "507/507 [==============================] - 36s 71ms/step - loss: 2.5871 - accuracy: 0.5057 - val_loss: 14.3029 - val_accuracy: 0.0183\n",
            "Epoch 9/20\n",
            "507/507 [==============================] - 34s 67ms/step - loss: 2.2221 - accuracy: 0.5749 - val_loss: 14.7196 - val_accuracy: 0.0211\n",
            "Epoch 10/20\n",
            "507/507 [==============================] - 34s 67ms/step - loss: 1.9360 - accuracy: 0.6284 - val_loss: 15.1327 - val_accuracy: 0.0222\n",
            "Epoch 11/20\n",
            "507/507 [==============================] - 36s 72ms/step - loss: 1.7156 - accuracy: 0.6651 - val_loss: 15.4045 - val_accuracy: 0.0194\n",
            "Epoch 12/20\n",
            "507/507 [==============================] - 34s 66ms/step - loss: 1.5449 - accuracy: 0.6953 - val_loss: 15.6923 - val_accuracy: 0.0205\n",
            "Epoch 13/20\n",
            "507/507 [==============================] - 35s 69ms/step - loss: 1.4169 - accuracy: 0.7136 - val_loss: 15.9668 - val_accuracy: 0.0194\n",
            "Epoch 14/20\n",
            "507/507 [==============================] - 34s 66ms/step - loss: 1.3062 - accuracy: 0.7351 - val_loss: 16.2046 - val_accuracy: 0.0166\n",
            "Epoch 15/20\n",
            "507/507 [==============================] - 34s 68ms/step - loss: 1.2165 - accuracy: 0.7449 - val_loss: 16.4568 - val_accuracy: 0.0177\n",
            "Epoch 16/20\n",
            "507/507 [==============================] - 34s 68ms/step - loss: 1.1348 - accuracy: 0.7576 - val_loss: 16.7385 - val_accuracy: 0.0161\n",
            "Epoch 17/20\n",
            "507/507 [==============================] - 33s 66ms/step - loss: 1.0485 - accuracy: 0.7774 - val_loss: 17.0341 - val_accuracy: 0.0177\n",
            "Epoch 18/20\n",
            "507/507 [==============================] - 35s 69ms/step - loss: 0.9909 - accuracy: 0.7841 - val_loss: 17.2545 - val_accuracy: 0.0155\n",
            "Epoch 19/20\n",
            "507/507 [==============================] - 33s 65ms/step - loss: 0.9558 - accuracy: 0.7894 - val_loss: 17.3809 - val_accuracy: 0.0166\n",
            "Epoch 20/20\n",
            "507/507 [==============================] - 37s 74ms/step - loss: 0.9094 - accuracy: 0.7947 - val_loss: 17.6175 - val_accuracy: 0.0144\n"
          ]
        }
      ],
      "source": [
        "#training model\n",
        "model.compile(loss='categorical_crossentropy',\n",
        "              optimizer=tf.keras.optimizers.Adam(0.01),\n",
        "              metrics=['accuracy'])\n",
        "history = model.fit(train_data,\n",
        "                    train_labels,\n",
        "                    validation_data=(val_data,val_labels),\n",
        "                    batch_size=32,\n",
        "                    epochs=20,\n",
        "                    verbose='auto')"
      ]
    },
    {
      "cell_type": "code",
      "execution_count": null,
      "metadata": {
        "colab": {
          "base_uri": "https://localhost:8080/",
          "height": 449
        },
        "id": "AMtWZfZvKpOZ",
        "outputId": "97a9a923-61c4-41be-f800-054d23a41de6"
      },
      "outputs": [
        {
          "data": {
            "image/png": "[encoded data removed]",
            "text/plain": [
              "<Figure size 640x480 with 1 Axes>"
            ]
          },
          "metadata": {},
          "output_type": "display_data"
        }
      ],
      "source": [
        "import matplotlib.pyplot as plt\n",
        "\n",
        "def plot_graphs(history, string):\n",
        "  plt.plot(history.history[string])\n",
        "  plt.xlabel(\"Epochs\")\n",
        "  plt.ylabel(string)\n",
        "  plt.show()\n",
        "\n",
        "plot_graphs(history, 'accuracy')"
      ]
    },
    {
      "cell_type": "code",
      "execution_count": null,
      "metadata": {
        "id": "BMZxSAaEKusa"
      },
      "outputs": [],
      "source": [
        "model.save(\"my_model.h5\")"
      ]
    },
    {
      "cell_type": "code",
      "execution_count": 20,
      "metadata": {
        "id": "DKOf4sfHL9r5"
      },
      "outputs": [],
      "source": [
        "loaded_model = tf.keras.models.load_model('my_model.h5')"
      ]
    },
    {
      "cell_type": "code",
      "execution_count": 15,
      "metadata": {
        "colab": {
          "base_uri": "https://localhost:8080/"
        },
        "id": "hoEcFRybMFXU",
        "outputId": "3e303a03-e244-433f-cb8d-0be73f979842"
      },
      "outputs": [
        {
          "data": {
            "text/plain": [
              "1124121"
            ]
          },
          "execution_count": 15,
          "metadata": {},
          "output_type": "execute_result"
        }
      ],
      "source": [
        "loaded_model.count_params()"
      ]
    },
    {
      "cell_type": "code",
      "execution_count": 21,
      "metadata": {
        "colab": {
          "base_uri": "https://localhost:8080/"
        },
        "id": "0qCa_2hbyWKn",
        "outputId": "7a46bc2c-429c-42d1-8c08-ad918deeb87a"
      },
      "outputs": [],
      "source": [
        "#predict number, see word\n",
        "index_to_word = {index:word for word,index in word_to_index.items()}"
      ]
    },
    {
      "cell_type": "code",
      "execution_count": 22,
      "metadata": {
        "id": "1wwTIm3VzfUc"
      },
      "outputs": [],
      "source": [
        "def show_predicted_proverb(seed_word,words_to_predict_len):\n",
        "    input_sequence = [word_to_index[seed_word]]\n",
        "    predicted_words = [seed_word]\n",
        "    for _ in range(words_to_predict_len):\n",
        "        input_vector = np.array(tf.keras.preprocessing.sequence\n",
        "                                .pad_sequences([input_sequence],maxlen=max_sequence_len-1, padding='pre'))\n",
        "        prediction = index_to_word[np.argmax(loaded_model.predict(input_vector))]\n",
        "        input_sequence.append(word_to_index[prediction])\n",
        "        predicted_words.append(prediction)\n",
        "    return predicted_words"
      ]
    },
    {
      "cell_type": "code",
      "execution_count": 23,
      "metadata": {
        "colab": {
          "base_uri": "https://localhost:8080/"
        },
        "id": "Cv1K9BSfrn5S",
        "outputId": "71c064e9-d7d8-491b-dd54-afe49cc6ff07"
      },
      "outputs": [
        {
          "name": "stdout",
          "output_type": "stream",
          "text": [
            "1/1 [==============================] - 1s 577ms/step\n",
            "1/1 [==============================] - 0s 21ms/step\n",
            "1/1 [==============================] - 0s 23ms/step\n",
            "1/1 [==============================] - 0s 21ms/step\n",
            "1/1 [==============================] - 0s 20ms/step\n",
            "ადამიანი ქმნილი დაღმა სწავლაში დაიბრუნესო ზღვას\n",
            "1/1 [==============================] - 0s 23ms/step\n",
            "1/1 [==============================] - 0s 22ms/step\n",
            "1/1 [==============================] - 0s 20ms/step\n",
            "1/1 [==============================] - 0s 20ms/step\n",
            "1/1 [==============================] - 0s 21ms/step\n",
            "ავი თავისთვის დაბრუნდებაო კატამ მოხვდებაო ცხარეაო\n",
            "1/1 [==============================] - 0s 22ms/step\n",
            "1/1 [==============================] - 0s 20ms/step\n",
            "1/1 [==============================] - 0s 20ms/step\n",
            "1/1 [==============================] - 0s 19ms/step\n",
            "1/1 [==============================] - 0s 22ms/step\n",
            "ამხანაგი ქალსაო კატამ ბატონთანო ბუზები აზიდვინებენ\n",
            "1/1 [==============================] - 0s 20ms/step\n",
            "1/1 [==============================] - 0s 20ms/step\n",
            "1/1 [==============================] - 0s 22ms/step\n",
            "1/1 [==============================] - 0s 21ms/step\n",
            "1/1 [==============================] - 0s 22ms/step\n",
            "ასეთი ტყემალიო დაბადებაც გაღარიბდება გაჭირვებითა მაღალდაბალს\n",
            "1/1 [==============================] - 0s 22ms/step\n",
            "1/1 [==============================] - 0s 20ms/step\n",
            "1/1 [==============================] - 0s 21ms/step\n",
            "1/1 [==============================] - 0s 19ms/step\n",
            "1/1 [==============================] - 0s 19ms/step\n",
            "ბავშვი ხრავს დაბადებაც ალიასა თავისივე დევნა\n",
            "1/1 [==============================] - 0s 18ms/step\n",
            "1/1 [==============================] - 0s 18ms/step\n",
            "1/1 [==============================] - 0s 17ms/step\n",
            "1/1 [==============================] - 0s 18ms/step\n",
            "1/1 [==============================] - 0s 18ms/step\n",
            "ბედი ლხინათაც სავაგლახოზე ძროხა ძერასაო გამოდნების\n"
          ]
        }
      ],
      "source": [
        "predicted_length = 5\n",
        "seeds = [\"ადამიანი\", \"ავი\", \"ამხანაგი\",\"ასეთი\",\"ბავშვი\",\"ბედი\"]\n",
        "for seed in seeds:\n",
        "    print(' '.join(show_predicted_proverb(seed,predicted_length)))"
      ]
    }
  ],
  "metadata": {
    "accelerator": "GPU",
    "colab": {
      "gpuType": "T4",
      "provenance": [],
      "toc_visible": true
    },
    "kernelspec": {
      "display_name": "Python 3",
      "name": "python3"
    },
    "language_info": {
      "codemirror_mode": {
        "name": "ipython",
        "version": 3
      },
      "file_extension": ".py",
      "mimetype": "text/x-python",
      "name": "python",
      "nbconvert_exporter": "python",
      "pygments_lexer": "ipython3",
      "version": "3.11.3"
    }
  },
  "nbformat": 4,
  "nbformat_minor": 0
}
